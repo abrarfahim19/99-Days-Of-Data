{
 "cells": [
  {
   "cell_type": "markdown",
   "metadata": {},
   "source": [
    "I want a programm that asks me the name of the student and house. And then return me the *{name}* is from the *{house}*\n",
    "\n",
    "Lets try and solve problem with List"
   ]
  },
  {
   "cell_type": "code",
   "execution_count": 3,
   "metadata": {},
   "outputs": [
    {
     "name": "stdout",
     "output_type": "stream",
     "text": [
      "Abrar from Fahim\n"
     ]
    }
   ],
   "source": [
    "def main():\n",
    "    student = get_students()\n",
    "    print(f\"{student[0]} from {student[1]}\")\n",
    "\n",
    "\n",
    "def get_students():\n",
    "    name=input(\"name?\")\n",
    "    house=input(\"house?\")\n",
    "    return [name,house]\n",
    "\n",
    "main()"
   ]
  },
  {
   "cell_type": "markdown",
   "metadata": {},
   "source": [
    "Lets try and solve the same problem with Tuple"
   ]
  },
  {
   "cell_type": "code",
   "execution_count": null,
   "metadata": {},
   "outputs": [
    {
     "name": "stdout",
     "output_type": "stream",
     "text": [
      "Abrar\n"
     ]
    }
   ],
   "source": [
    "def main():\n",
    "    student = get_students()\n",
    "    print(f\"{student[0]} from {student[1]}\")\n",
    "\n",
    "\n",
    "def get_students():\n",
    "    name=input(\"name?\")\n",
    "    house=input(\"house?\")\n",
    "    return (name,house)\n",
    "\n",
    "main()"
   ]
  },
  {
   "cell_type": "markdown",
   "metadata": {},
   "source": [
    "Lets try and solve the same problem with dictionary"
   ]
  },
  {
   "cell_type": "code",
   "execution_count": 2,
   "metadata": {},
   "outputs": [
    {
     "name": "stdout",
     "output_type": "stream",
     "text": [
      "Abrar from Fahim\n"
     ]
    }
   ],
   "source": [
    "def main():\n",
    "    student = get_students()\n",
    "    print(f\"{student['name']} from {student['house']}\")\n",
    "\n",
    "\n",
    "def get_students():\n",
    "    name=input(\"name?\")\n",
    "    house=input(\"house?\")\n",
    "    return {\"name\":name, \"house\":house}\n",
    "\n",
    "main()"
   ]
  },
  {
   "cell_type": "markdown",
   "metadata": {},
   "source": [
    "Let's use something powerful. That is *Class*.\n",
    "\n",
    "What is class in python. Well succintly it is a way of creating your own data types. And with these new data type you create new **object**.\n",
    "\n",
    "what is **object**? Its *instance of class*.\n",
    "\n",
    "these class has attributes. or more technical term is they have instance variable."
   ]
  },
  {
   "cell_type": "code",
   "execution_count": 1,
   "metadata": {},
   "outputs": [
    {
     "name": "stdout",
     "output_type": "stream",
     "text": [
      "Harry Potter] from Gryfindor\n"
     ]
    }
   ],
   "source": [
    "class Student:                          #Creating a class\n",
    "    ...\n",
    "\n",
    "def main():\n",
    "    student = get_students()\n",
    "    print(f\"{student.name} from {student.house}\")\n",
    "\n",
    "\n",
    "def get_students():\n",
    "    student = Student()                 #Creating a instance of class [object]\n",
    "    student.name=input(\"name?\")         #setting attribute / instance variable\n",
    "    student.house=input(\"house?\")       \n",
    "    return student\n",
    "\n",
    "main()"
   ]
  },
  {
   "cell_type": "markdown",
   "metadata": {},
   "source": [
    "But as you can see the way I am setting the attribute is quite messy. Pythonic approach would be to *write less code and elegent thought*. Lets try that."
   ]
  },
  {
   "cell_type": "code",
   "execution_count": 6,
   "metadata": {},
   "outputs": [
    {
     "ename": "TypeError",
     "evalue": "Student() takes no arguments",
     "output_type": "error",
     "traceback": [
      "\u001b[0;31m---------------------------------------------------------------------------\u001b[0m",
      "\u001b[0;31mTypeError\u001b[0m                                 Traceback (most recent call last)",
      "\u001b[1;32m/home/abrar/git/99-Days-Of-Data/8.OOP/walk.ipynb Cell 10'\u001b[0m in \u001b[0;36m<cell line: 15>\u001b[0;34m()\u001b[0m\n\u001b[1;32m     <a href='vscode-notebook-cell:/home/abrar/git/99-Days-Of-Data/8.OOP/walk.ipynb#ch0000011?line=11'>12</a>\u001b[0m     student \u001b[39m=\u001b[39m Student(name,house)                 \u001b[39m#Creating a instance of class [object]\u001b[39;00m\n\u001b[1;32m     <a href='vscode-notebook-cell:/home/abrar/git/99-Days-Of-Data/8.OOP/walk.ipynb#ch0000011?line=12'>13</a>\u001b[0m     \u001b[39mreturn\u001b[39;00m student\n\u001b[0;32m---> <a href='vscode-notebook-cell:/home/abrar/git/99-Days-Of-Data/8.OOP/walk.ipynb#ch0000011?line=14'>15</a>\u001b[0m main()\n",
      "\u001b[1;32m/home/abrar/git/99-Days-Of-Data/8.OOP/walk.ipynb Cell 10'\u001b[0m in \u001b[0;36mmain\u001b[0;34m()\u001b[0m\n\u001b[1;32m      <a href='vscode-notebook-cell:/home/abrar/git/99-Days-Of-Data/8.OOP/walk.ipynb#ch0000011?line=3'>4</a>\u001b[0m \u001b[39mdef\u001b[39;00m \u001b[39mmain\u001b[39m():\n\u001b[0;32m----> <a href='vscode-notebook-cell:/home/abrar/git/99-Days-Of-Data/8.OOP/walk.ipynb#ch0000011?line=4'>5</a>\u001b[0m     student \u001b[39m=\u001b[39m get_students()\n\u001b[1;32m      <a href='vscode-notebook-cell:/home/abrar/git/99-Days-Of-Data/8.OOP/walk.ipynb#ch0000011?line=5'>6</a>\u001b[0m     \u001b[39mprint\u001b[39m(\u001b[39mf\u001b[39m\u001b[39m\"\u001b[39m\u001b[39m{\u001b[39;00mstudent\u001b[39m.\u001b[39mname\u001b[39m}\u001b[39;00m\u001b[39m from \u001b[39m\u001b[39m{\u001b[39;00mstudent\u001b[39m.\u001b[39mhouse\u001b[39m}\u001b[39;00m\u001b[39m\"\u001b[39m)\n",
      "\u001b[1;32m/home/abrar/git/99-Days-Of-Data/8.OOP/walk.ipynb Cell 10'\u001b[0m in \u001b[0;36mget_students\u001b[0;34m()\u001b[0m\n\u001b[1;32m     <a href='vscode-notebook-cell:/home/abrar/git/99-Days-Of-Data/8.OOP/walk.ipynb#ch0000011?line=9'>10</a>\u001b[0m name \u001b[39m=\u001b[39m \u001b[39minput\u001b[39m(\u001b[39m\"\u001b[39m\u001b[39mname? \u001b[39m\u001b[39m\"\u001b[39m)              \u001b[39m#setting attribute / instance variable\u001b[39;00m\n\u001b[1;32m     <a href='vscode-notebook-cell:/home/abrar/git/99-Days-Of-Data/8.OOP/walk.ipynb#ch0000011?line=10'>11</a>\u001b[0m house \u001b[39m=\u001b[39m \u001b[39minput\u001b[39m(\u001b[39m\"\u001b[39m\u001b[39mhouse? \u001b[39m\u001b[39m\"\u001b[39m)       \n\u001b[0;32m---> <a href='vscode-notebook-cell:/home/abrar/git/99-Days-Of-Data/8.OOP/walk.ipynb#ch0000011?line=11'>12</a>\u001b[0m student \u001b[39m=\u001b[39m Student(name,house)                 \u001b[39m#Creating a instance of class [object]\u001b[39;00m\n\u001b[1;32m     <a href='vscode-notebook-cell:/home/abrar/git/99-Days-Of-Data/8.OOP/walk.ipynb#ch0000011?line=12'>13</a>\u001b[0m \u001b[39mreturn\u001b[39;00m student\n",
      "\u001b[0;31mTypeError\u001b[0m: Student() takes no arguments"
     ]
    }
   ],
   "source": [
    "class Student:                          #Creating a class\n",
    "    ...\n",
    "\n",
    "def main():\n",
    "    student = get_students()\n",
    "    print(f\"{student.name} from {student.house}\")\n",
    "\n",
    "\n",
    "def get_students():\n",
    "    name = input(\"name? \")              #setting attribute / instance variable\n",
    "    house = input(\"house? \")       \n",
    "    student = Student(name,house)                 #Creating a instance of class [object]\n",
    "    return student\n",
    "\n",
    "main()"
   ]
  },
  {
   "cell_type": "markdown",
   "metadata": {},
   "source": [
    "What! we cant use it like function and pass in value like we did previously?!\n",
    "\n",
    "Well we can do that. But we have to put in a little bit of work for that. Let's go to the top of out programm. And see what we did there? we instantiated a class. Actually we didn't quite do it right. Let me show you the full power of it."
   ]
  },
  {
   "cell_type": "code",
   "execution_count": 10,
   "metadata": {},
   "outputs": [
    {
     "name": "stdout",
     "output_type": "stream",
     "text": [
      "Harry from Gryffindor\n"
     ]
    }
   ],
   "source": [
    "class Student:                                  #Creating a class\n",
    "    def __init__(self, name, house):            #Instatiate [Dunder init method/instance method]\n",
    "        self.name = name\n",
    "        self.house = house \n",
    "\n",
    "def main():\n",
    "    student = get_students()\n",
    "    print(f\"{student.name} from {student.house}\")\n",
    "\n",
    "\n",
    "def get_students():\n",
    "    name = input(\"name? \")                        #setting attribute / instance variable\n",
    "    house = input(\"house? \")        \n",
    "    student = Student(name,house)                 #Creating a instance of class [object]\n",
    "    return student\n",
    "\n",
    "main()"
   ]
  },
  {
   "cell_type": "markdown",
   "metadata": {},
   "source": [
    "Lets have a closer look at what we did. We used a instance method. __ _init_ __.\n",
    "\n",
    "This instantiate the class and takes in one default parameter name *self*. The purpose of the self is to represent the class itself. So when we write **self.name** = name(Harry),\n",
    "what we do is we say the name of the self[the class object] will be the name the user puts in (self, name=\"Harry\", house=\"Gryfindor\").\n",
    "In this case *Harry* "
   ]
  },
  {
   "cell_type": "markdown",
   "metadata": {},
   "source": [
    "But what if user doesn't put any name. He just accidentally taps enter? How should we go about it. We can just let that \"\" empty string pass by. But it wouldn't be a good way to do it. We want to **raise** an error. Yes, class let's you do that as well. Follow me"
   ]
  },
  {
   "cell_type": "code",
   "execution_count": 20,
   "metadata": {},
   "outputs": [
    {
     "name": "stdout",
     "output_type": "stream",
     "text": [
      "There was a Error\n"
     ]
    }
   ],
   "source": [
    "class Student:                                   #Creating a class\n",
    "    def __init__(self, name, house):             #Instatiate [Dunder init method/instance method]\n",
    "        if house not in [\"Gryffindor\", \"Slytherine\", \"Ravenclaw\", \"Hufflepuff\"]:\n",
    "            raise ValueError(\"Invalid House\")\n",
    "        self.name = name\n",
    "        self.house = house\n",
    "\n",
    "def main():\n",
    "    student = get_students()\n",
    "    try:\n",
    "        print(f\"{student.name} from {student.house}\")\n",
    "    except:\n",
    "        print(\"There was a Error\")\n",
    "\n",
    "def get_students():\n",
    "    name = input(\"name? \")                        #setting attribute / instance variable\n",
    "    house = input(\"house? \")\n",
    "    try:\n",
    "        return Student(name,house)\n",
    "    except ValueError:\n",
    "        return None\n",
    "\n",
    "main()"
   ]
  },
  {
   "cell_type": "markdown",
   "metadata": {},
   "source": [
    "But that's too much work. We are getting into the class. And then inside the class we access the attribute with a (.) But what if we want to print the whole class instance. Let's see"
   ]
  },
  {
   "cell_type": "code",
   "execution_count": 21,
   "metadata": {},
   "outputs": [
    {
     "name": "stdout",
     "output_type": "stream",
     "text": [
      "<__main__.Student object at 0x7fdafc4785e0>\n"
     ]
    }
   ],
   "source": [
    "class Student:                                   #Creating a class\n",
    "    def __init__(self, name, house):             #Instatiate [Dunder init method/instance method]\n",
    "        if house not in [\"Gryffindor\", \"Slytherine\", \"Ravenclaw\", \"Hufflepuff\"]:\n",
    "            raise ValueError(\"Invalid House\")\n",
    "        self.name = name\n",
    "        self.house = house\n",
    "\n",
    "def main():\n",
    "    student = get_students()\n",
    "    try:\n",
    "        print(student)\n",
    "    except:\n",
    "        print(\"There was a Error\")\n",
    "\n",
    "def get_students():\n",
    "    name = input(\"name? \")                        #setting attribute / instance variable\n",
    "    house = input(\"house? \")\n",
    "    try:\n",
    "        return Student(name,house)\n",
    "    except ValueError:\n",
    "        return None\n",
    "\n",
    "main()"
   ]
  },
  {
   "cell_type": "markdown",
   "metadata": {},
   "source": [
    "What's that? It prints the location the object is stored in. But we don't want to see that. Turns out python class has another dunder method it automatically runs.\n",
    "\n",
    "It is __ __str__ __ . And this handles the string it will output when someone tries to print the object."
   ]
  },
  {
   "cell_type": "code",
   "execution_count": 23,
   "metadata": {},
   "outputs": [
    {
     "name": "stdout",
     "output_type": "stream",
     "text": [
      "This is student\n"
     ]
    }
   ],
   "source": [
    "class Student:                                   #Creating a class\n",
    "    def __init__(self, name, house):             #Instatiate [Dunder init method/instance method]\n",
    "        if house not in [\"Gryffindor\", \"Slytherine\", \"Ravenclaw\", \"Hufflepuff\"]:\n",
    "            raise ValueError(\"Invalid House\")\n",
    "        self.name = name\n",
    "        self.house = house\n",
    "\n",
    "    def __str__(self):\n",
    "        return f\"This is student\"    \n",
    "\n",
    "def main():\n",
    "    student = get_students()\n",
    "    try:\n",
    "        print(student)\n",
    "    except:\n",
    "        print(\"There was a Error\")\n",
    "\n",
    "def get_students():\n",
    "    name = input(\"name? \")                        #setting attribute / instance variable\n",
    "    house = input(\"house? \")\n",
    "    try:\n",
    "        return Student(name,house)\n",
    "    except ValueError:\n",
    "        return None\n",
    "\n",
    "main()"
   ]
  },
  {
   "cell_type": "markdown",
   "metadata": {},
   "source": [
    "We can return the self.name and self.house as well"
   ]
  },
  {
   "cell_type": "code",
   "execution_count": 24,
   "metadata": {},
   "outputs": [
    {
     "name": "stdout",
     "output_type": "stream",
     "text": [
      "Harry from Gryffindor\n"
     ]
    }
   ],
   "source": [
    "class Student:                                   #Creating a class\n",
    "    def __init__(self, name, house):             #Instatiate [Dunder init method/instance method]\n",
    "        if house not in [\"Gryffindor\", \"Slytherine\", \"Ravenclaw\", \"Hufflepuff\"]:\n",
    "            raise ValueError(\"Invalid House\")\n",
    "        self.name = name\n",
    "        self.house = house\n",
    "\n",
    "    def __str__(self):\n",
    "        return f\"{self.name} from {self.house}\"    \n",
    "\n",
    "def main():\n",
    "    student = get_students()\n",
    "    try:\n",
    "        print(student)\n",
    "    except:\n",
    "        print(\"There was a Error\")\n",
    "\n",
    "def get_students():\n",
    "    name = input(\"name? \")                        #setting attribute / instance variable\n",
    "    house = input(\"house? \")\n",
    "    try:\n",
    "        return Student(name,house)\n",
    "    except ValueError:\n",
    "        return None\n",
    "\n",
    "main()"
   ]
  },
  {
   "cell_type": "markdown",
   "metadata": {},
   "source": [
    "So one big takeway is that **self** represent the object."
   ]
  },
  {
   "cell_type": "markdown",
   "metadata": {},
   "source": [
    "In Python, the built-in str() and repr() functions both produce a textual representation of an object. The difference between str() and repr() is: The str() function returns a user-friendly description of an object. The repr() method returns a developer-friendly string representation of an object."
   ]
  },
  {
   "cell_type": "markdown",
   "metadata": {},
   "source": []
  }
 ],
 "metadata": {
  "kernelspec": {
   "display_name": "Python 3.10.5 64-bit",
   "language": "python",
   "name": "python3"
  },
  "language_info": {
   "codemirror_mode": {
    "name": "ipython",
    "version": 3
   },
   "file_extension": ".py",
   "mimetype": "text/x-python",
   "name": "python",
   "nbconvert_exporter": "python",
   "pygments_lexer": "ipython3",
   "version": "3.10.5"
  },
  "vscode": {
   "interpreter": {
    "hash": "e7370f93d1d0cde622a1f8e1c04877d8463912d04d973331ad4851f04de6915a"
   }
  }
 },
 "nbformat": 4,
 "nbformat_minor": 2
}
