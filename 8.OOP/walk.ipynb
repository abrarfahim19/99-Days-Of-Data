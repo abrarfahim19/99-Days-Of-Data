{
 "cells": [
  {
   "cell_type": "markdown",
   "metadata": {},
   "source": [
    "I want a programm that asks me the name of the student and house. And then return me the *{name}* is from the *{house}*\n",
    "\n",
    "Lets try and solve problem with List"
   ]
  },
  {
   "cell_type": "code",
   "execution_count": 3,
   "metadata": {},
   "outputs": [
    {
     "name": "stdout",
     "output_type": "stream",
     "text": [
      "Abrar from Fahim\n"
     ]
    }
   ],
   "source": [
    "def main():\n",
    "    student = get_students()\n",
    "    print(f\"{student[0]} from {student[1]}\")\n",
    "\n",
    "\n",
    "def get_students():\n",
    "    name = input(\"name?\")\n",
    "    house = input(\"house?\")\n",
    "    return [name, house]\n",
    "\n",
    "\n",
    "main()\n"
   ]
  },
  {
   "cell_type": "markdown",
   "metadata": {},
   "source": [
    "Lets try and solve the same problem with Tuple"
   ]
  },
  {
   "cell_type": "code",
   "execution_count": null,
   "metadata": {},
   "outputs": [
    {
     "name": "stdout",
     "output_type": "stream",
     "text": [
      "Abrar\n"
     ]
    }
   ],
   "source": [
    "def main():\n",
    "    student = get_students()\n",
    "    print(f\"{student[0]} from {student[1]}\")\n",
    "\n",
    "\n",
    "def get_students():\n",
    "    name = input(\"name?\")\n",
    "    house = input(\"house?\")\n",
    "    return (name, house)\n",
    "\n",
    "\n",
    "main()\n"
   ]
  },
  {
   "cell_type": "markdown",
   "metadata": {},
   "source": [
    "Lets try and solve the same problem with dictionary"
   ]
  },
  {
   "cell_type": "code",
   "execution_count": 2,
   "metadata": {},
   "outputs": [
    {
     "name": "stdout",
     "output_type": "stream",
     "text": [
      "Abrar from Fahim\n"
     ]
    }
   ],
   "source": [
    "def main():\n",
    "    student = get_students()\n",
    "    print(f\"{student['name']} from {student['house']}\")\n",
    "\n",
    "\n",
    "def get_students():\n",
    "    name = input(\"name?\")\n",
    "    house = input(\"house?\")\n",
    "    return {\"name\": name, \"house\": house}\n",
    "\n",
    "\n",
    "main()\n"
   ]
  },
  {
   "cell_type": "markdown",
   "metadata": {},
   "source": [
    "Let's use something powerful. That is *Class*.\n",
    "\n",
    "What is class in python. Well succintly it is a way of creating your own data types. And with these new data type you create new **object**.\n",
    "\n",
    "what is **object**? Its *instance of class*.\n",
    "\n",
    "these class has attributes. or more technical term is they have instance variable."
   ]
  },
  {
   "cell_type": "code",
   "execution_count": 1,
   "metadata": {},
   "outputs": [
    {
     "name": "stdout",
     "output_type": "stream",
     "text": [
      "Abrar from Fahim\n"
     ]
    }
   ],
   "source": [
    "class Student:  # Creating a class\n",
    "    ...\n",
    "\n",
    "\n",
    "def main():\n",
    "    student = get_students()\n",
    "    print(f\"{student.name} from {student.house}\")\n",
    "\n",
    "\n",
    "def get_students():\n",
    "    student = Student()  # Creating a instance of class [object]\n",
    "    student.name = input(\"name?\")  # setting attribute / instance variable\n",
    "    student.house = input(\"house?\")\n",
    "    return student\n",
    "\n",
    "\n",
    "main()\n"
   ]
  },
  {
   "cell_type": "markdown",
   "metadata": {},
   "source": [
    "But as you can see the way I am setting the attribute is quite messy. Pythonic approach would be to *write less code and elegent thought*. Lets try that."
   ]
  },
  {
   "cell_type": "code",
   "execution_count": 6,
   "metadata": {},
   "outputs": [
    {
     "ename": "TypeError",
     "evalue": "Student() takes no arguments",
     "output_type": "error",
     "traceback": [
      "\u001b[0;31m---------------------------------------------------------------------------\u001b[0m",
      "\u001b[0;31mTypeError\u001b[0m                                 Traceback (most recent call last)",
      "\u001b[1;32m/home/abrar/git/99-Days-Of-Data/8.OOP/walk.ipynb Cell 10'\u001b[0m in \u001b[0;36m<cell line: 15>\u001b[0;34m()\u001b[0m\n\u001b[1;32m     <a href='vscode-notebook-cell:/home/abrar/git/99-Days-Of-Data/8.OOP/walk.ipynb#ch0000011?line=11'>12</a>\u001b[0m     student \u001b[39m=\u001b[39m Student(name,house)                 \u001b[39m#Creating a instance of class [object]\u001b[39;00m\n\u001b[1;32m     <a href='vscode-notebook-cell:/home/abrar/git/99-Days-Of-Data/8.OOP/walk.ipynb#ch0000011?line=12'>13</a>\u001b[0m     \u001b[39mreturn\u001b[39;00m student\n\u001b[0;32m---> <a href='vscode-notebook-cell:/home/abrar/git/99-Days-Of-Data/8.OOP/walk.ipynb#ch0000011?line=14'>15</a>\u001b[0m main()\n",
      "\u001b[1;32m/home/abrar/git/99-Days-Of-Data/8.OOP/walk.ipynb Cell 10'\u001b[0m in \u001b[0;36mmain\u001b[0;34m()\u001b[0m\n\u001b[1;32m      <a href='vscode-notebook-cell:/home/abrar/git/99-Days-Of-Data/8.OOP/walk.ipynb#ch0000011?line=3'>4</a>\u001b[0m \u001b[39mdef\u001b[39;00m \u001b[39mmain\u001b[39m():\n\u001b[0;32m----> <a href='vscode-notebook-cell:/home/abrar/git/99-Days-Of-Data/8.OOP/walk.ipynb#ch0000011?line=4'>5</a>\u001b[0m     student \u001b[39m=\u001b[39m get_students()\n\u001b[1;32m      <a href='vscode-notebook-cell:/home/abrar/git/99-Days-Of-Data/8.OOP/walk.ipynb#ch0000011?line=5'>6</a>\u001b[0m     \u001b[39mprint\u001b[39m(\u001b[39mf\u001b[39m\u001b[39m\"\u001b[39m\u001b[39m{\u001b[39;00mstudent\u001b[39m.\u001b[39mname\u001b[39m}\u001b[39;00m\u001b[39m from \u001b[39m\u001b[39m{\u001b[39;00mstudent\u001b[39m.\u001b[39mhouse\u001b[39m}\u001b[39;00m\u001b[39m\"\u001b[39m)\n",
      "\u001b[1;32m/home/abrar/git/99-Days-Of-Data/8.OOP/walk.ipynb Cell 10'\u001b[0m in \u001b[0;36mget_students\u001b[0;34m()\u001b[0m\n\u001b[1;32m     <a href='vscode-notebook-cell:/home/abrar/git/99-Days-Of-Data/8.OOP/walk.ipynb#ch0000011?line=9'>10</a>\u001b[0m name \u001b[39m=\u001b[39m \u001b[39minput\u001b[39m(\u001b[39m\"\u001b[39m\u001b[39mname? \u001b[39m\u001b[39m\"\u001b[39m)              \u001b[39m#setting attribute / instance variable\u001b[39;00m\n\u001b[1;32m     <a href='vscode-notebook-cell:/home/abrar/git/99-Days-Of-Data/8.OOP/walk.ipynb#ch0000011?line=10'>11</a>\u001b[0m house \u001b[39m=\u001b[39m \u001b[39minput\u001b[39m(\u001b[39m\"\u001b[39m\u001b[39mhouse? \u001b[39m\u001b[39m\"\u001b[39m)       \n\u001b[0;32m---> <a href='vscode-notebook-cell:/home/abrar/git/99-Days-Of-Data/8.OOP/walk.ipynb#ch0000011?line=11'>12</a>\u001b[0m student \u001b[39m=\u001b[39m Student(name,house)                 \u001b[39m#Creating a instance of class [object]\u001b[39;00m\n\u001b[1;32m     <a href='vscode-notebook-cell:/home/abrar/git/99-Days-Of-Data/8.OOP/walk.ipynb#ch0000011?line=12'>13</a>\u001b[0m \u001b[39mreturn\u001b[39;00m student\n",
      "\u001b[0;31mTypeError\u001b[0m: Student() takes no arguments"
     ]
    }
   ],
   "source": [
    "class Student:  # Creating a class\n",
    "    ...\n",
    "\n",
    "\n",
    "def main():\n",
    "    student = get_students()\n",
    "    print(f\"{student.name} from {student.house}\")\n",
    "\n",
    "\n",
    "def get_students():\n",
    "    name = input(\"name? \")  # setting attribute / instance variable\n",
    "    house = input(\"house? \")\n",
    "    student = Student(name, house)  # Creating a instance of class [object]\n",
    "    return student\n",
    "\n",
    "\n",
    "main()\n"
   ]
  },
  {
   "cell_type": "markdown",
   "metadata": {},
   "source": [
    "What! we cant use it like function and pass in value like we did previously?!\n",
    "\n",
    "Well we can do that. But we have to put in a little bit of work for that. Let's go to the top of out programm. And see what we did there? we instantiated a class. Actually we didn't quite do it right. Let me show you the full power of it."
   ]
  },
  {
   "cell_type": "code",
   "execution_count": 10,
   "metadata": {},
   "outputs": [
    {
     "name": "stdout",
     "output_type": "stream",
     "text": [
      "Harry from Gryffindor\n"
     ]
    }
   ],
   "source": [
    "class Student:  # Creating a class\n",
    "    def __init__(self, name, house):  # Instatiate [Dunder init method/instance method]\n",
    "        self.name = name\n",
    "        self.house = house\n",
    "\n",
    "\n",
    "def main():\n",
    "    student = get_students()\n",
    "    print(f\"{student.name} from {student.house}\")\n",
    "\n",
    "\n",
    "def get_students():\n",
    "    name = input(\"name? \")  # setting attribute / instance variable\n",
    "    house = input(\"house? \")\n",
    "    student = Student(name, house)  # Creating a instance of class [object]\n",
    "    return student\n",
    "\n",
    "\n",
    "main()\n"
   ]
  },
  {
   "cell_type": "markdown",
   "metadata": {},
   "source": [
    "Lets have a closer look at what we did. We used a instance method. __ _init_ __.\n",
    "\n",
    "This instantiate the class and takes in one default parameter name *self*. The purpose of the self is to represent the class itself. So when we write **self.name** = name(Harry),\n",
    "what we do is we say the name of the self[the class object] will be the name the user puts in (self, name=\"Harry\", house=\"Gryfindor\").\n",
    "In this case *Harry* "
   ]
  },
  {
   "cell_type": "markdown",
   "metadata": {},
   "source": [
    "But what if user doesn't put any name. He just accidentally taps enter? How should we go about it. We can just let that \"\" empty string pass by. But it wouldn't be a good way to do it. We want to **raise** an error. Yes, class let's you do that as well. Follow me"
   ]
  },
  {
   "cell_type": "code",
   "execution_count": 20,
   "metadata": {},
   "outputs": [
    {
     "name": "stdout",
     "output_type": "stream",
     "text": [
      "There was a Error\n"
     ]
    }
   ],
   "source": [
    "class Student:  # Creating a class\n",
    "    def __init__(self, name, house):  # Instatiate [Dunder init method/instance method]\n",
    "        if house not in [\"Gryffindor\", \"Slytherine\", \"Ravenclaw\", \"Hufflepuff\"]:\n",
    "            raise ValueError(\"Invalid House\")\n",
    "        self.name = name\n",
    "        self.house = house\n",
    "\n",
    "\n",
    "def main():\n",
    "    student = get_students()\n",
    "    try:\n",
    "        print(f\"{student.name} from {student.house}\")\n",
    "    except:\n",
    "        print(\"There was a Error\")\n",
    "\n",
    "\n",
    "def get_students():\n",
    "    name = input(\"name? \")  # setting attribute / instance variable\n",
    "    house = input(\"house? \")\n",
    "    try:\n",
    "        return Student(name, house)\n",
    "    except ValueError:\n",
    "        return None\n",
    "\n",
    "\n",
    "main()\n"
   ]
  },
  {
   "cell_type": "markdown",
   "metadata": {},
   "source": [
    "But that's too much work. We are getting into the class. And then inside the class we access the attribute with a (.) But what if we want to print the whole class instance. Let's see"
   ]
  },
  {
   "cell_type": "code",
   "execution_count": 21,
   "metadata": {},
   "outputs": [
    {
     "name": "stdout",
     "output_type": "stream",
     "text": [
      "<__main__.Student object at 0x7fdafc4785e0>\n"
     ]
    }
   ],
   "source": [
    "class Student:  # Creating a class\n",
    "    def __init__(self, name, house):  # Instatiate [Dunder init method/instance method]\n",
    "        if house not in [\"Gryffindor\", \"Slytherine\", \"Ravenclaw\", \"Hufflepuff\"]:\n",
    "            raise ValueError(\"Invalid House\")\n",
    "        self.name = name\n",
    "        self.house = house\n",
    "\n",
    "\n",
    "def main():\n",
    "    student = get_students()\n",
    "    try:\n",
    "        print(student)\n",
    "    except:\n",
    "        print(\"There was a Error\")\n",
    "\n",
    "\n",
    "def get_students():\n",
    "    name = input(\"name? \")  # setting attribute / instance variable\n",
    "    house = input(\"house? \")\n",
    "    try:\n",
    "        return Student(name, house)\n",
    "    except ValueError:\n",
    "        return None\n",
    "\n",
    "\n",
    "main()\n"
   ]
  },
  {
   "cell_type": "markdown",
   "metadata": {},
   "source": [
    "What's that? It prints the location the object is stored in. But we don't want to see that. Turns out python class has another dunder method it automatically runs.\n",
    "\n",
    "It is __ __str__ __ . And this handles the string it will output when someone tries to print the object."
   ]
  },
  {
   "cell_type": "code",
   "execution_count": 23,
   "metadata": {},
   "outputs": [
    {
     "name": "stdout",
     "output_type": "stream",
     "text": [
      "This is student\n"
     ]
    }
   ],
   "source": [
    "class Student:  # Creating a class\n",
    "    def __init__(self, name, house):  # Instatiate [Dunder init method/instance method]\n",
    "        if house not in [\"Gryffindor\", \"Slytherine\", \"Ravenclaw\", \"Hufflepuff\"]:\n",
    "            raise ValueError(\"Invalid House\")\n",
    "        self.name = name\n",
    "        self.house = house\n",
    "\n",
    "    def __str__(self):\n",
    "        return f\"This is student\"\n",
    "\n",
    "\n",
    "def main():\n",
    "    student = get_students()\n",
    "    try:\n",
    "        print(student)\n",
    "    except:\n",
    "        print(\"There was a Error\")\n",
    "\n",
    "\n",
    "def get_students():\n",
    "    name = input(\"name? \")  # setting attribute / instance variable\n",
    "    house = input(\"house? \")\n",
    "    try:\n",
    "        return Student(name, house)\n",
    "    except ValueError:\n",
    "        return None\n",
    "\n",
    "\n",
    "main()\n"
   ]
  },
  {
   "cell_type": "markdown",
   "metadata": {},
   "source": [
    "We can return the self.name and self.house as well"
   ]
  },
  {
   "cell_type": "code",
   "execution_count": 24,
   "metadata": {},
   "outputs": [
    {
     "name": "stdout",
     "output_type": "stream",
     "text": [
      "Harry from Gryffindor\n"
     ]
    }
   ],
   "source": [
    "class Student:  # Creating a class\n",
    "    def __init__(self, name, house):  # Instatiate [Dunder init method/instance method]\n",
    "        if house not in [\"Gryffindor\", \"Slytherine\", \"Ravenclaw\", \"Hufflepuff\"]:\n",
    "            raise ValueError(\"Invalid House\")\n",
    "        self.name = name\n",
    "        self.house = house\n",
    "\n",
    "    def __str__(self):\n",
    "        return f\"{self.name} from {self.house}\"\n",
    "\n",
    "\n",
    "def main():\n",
    "    student = get_students()\n",
    "    try:\n",
    "        print(student)\n",
    "    except:\n",
    "        print(\"There was a Error\")\n",
    "\n",
    "\n",
    "def get_students():\n",
    "    name = input(\"name? \")  # setting attribute / instance variable\n",
    "    house = input(\"house? \")\n",
    "    try:\n",
    "        return Student(name, house)\n",
    "    except ValueError:\n",
    "        return None\n",
    "\n",
    "\n",
    "main()\n"
   ]
  },
  {
   "cell_type": "markdown",
   "metadata": {},
   "source": [
    "So one big takeway is that **self** represent the object."
   ]
  },
  {
   "cell_type": "markdown",
   "metadata": {},
   "source": [
    "In Python, the built-in str() and repr() functions both produce a textual representation of an object. The difference between str() and repr() is: The str() function returns a user-friendly description of an object. The repr() method returns a developer-friendly string representation of an object."
   ]
  },
  {
   "cell_type": "markdown",
   "metadata": {},
   "source": [
    "### A flash back in the memory lane"
   ]
  },
  {
   "cell_type": "code",
   "execution_count": 6,
   "metadata": {},
   "outputs": [
    {
     "data": {
      "text/plain": [
       "[4, 3, 2, 1]"
      ]
     },
     "execution_count": 6,
     "metadata": {},
     "output_type": "execute_result"
    }
   ],
   "source": [
    "a = [1, 2, 3, 4]\n",
    "(a.reverse())\n",
    "a\n"
   ]
  },
  {
   "cell_type": "markdown",
   "metadata": {},
   "source": [
    "What we did here is... We used the list data type() method **reverse()**\n",
    "\n",
    "With class we can do the same. Let's create a method of our own. It will be patronus. So, when the students this method is called a magical creature will appear."
   ]
  },
  {
   "cell_type": "code",
   "execution_count": 11,
   "metadata": {},
   "outputs": [
    {
     "name": "stdout",
     "output_type": "stream",
     "text": [
      "Stag\n"
     ]
    }
   ],
   "source": [
    "class Student:  # Creating a class\n",
    "    def __init__(\n",
    "        self, name, house, patrounus\n",
    "    ):  # Instatiate [Dunder init method/instance method]\n",
    "        if house not in [\"Gryffindor\", \"Slytherine\", \"Ravenclaw\", \"Hufflepuff\"]:\n",
    "            raise ValueError(\"Invalid House\")\n",
    "        self.name = name\n",
    "        self.house = house\n",
    "        self.patrounus = patrounus\n",
    "\n",
    "    def __str__(self):\n",
    "        return f\"This is student\"\n",
    "\n",
    "    def patrounus(self):\n",
    "        if self.patrounus == \"Stag\":\n",
    "            return \"🐶\"\n",
    "        else:\n",
    "            return \"None\"\n",
    "\n",
    "\n",
    "def main():\n",
    "    student = get_students()\n",
    "    print(student.patrounus)\n",
    "\n",
    "\n",
    "def get_students():\n",
    "    name = input(\"name? \")  # setting attribute / instance variable\n",
    "    house = input(\"house? \")\n",
    "    patrounus = input(\"Patrounus? \")\n",
    "    try:\n",
    "        return Student(name, house, patrounus)\n",
    "    except ValueError:\n",
    "        return None\n",
    "\n",
    "\n",
    "main()\n"
   ]
  },
  {
   "cell_type": "markdown",
   "metadata": {},
   "source": [
    "Let's drop our own method and look at the code. We can mess up the code easily. How? well, Inside of the main function we can reassign the house attribute and avoid the validation like following\n",
    "\n",
    "```python\n",
    "student = get_students()\n",
    "student.house = \"Changed by user\"\n",
    "print(student.house)\n",
    "```\n",
    "But theres a way of assuring the code doesn't break from cunning act of the user."
   ]
  },
  {
   "cell_type": "markdown",
   "metadata": {},
   "source": [
    "### Property"
   ]
  },
  {
   "cell_type": "markdown",
   "metadata": {},
   "source": [
    "Property is pretty much like attribute. But with more defense mechanism. The **@property** decorator is a built-in decorator in Python for the **property()** function. Use @property decorator on any method in the class to use the method as a property."
   ]
  },
  {
   "cell_type": "code",
   "execution_count": 2,
   "metadata": {},
   "outputs": [
    {
     "ename": "TypeError",
     "evalue": "descriptor 'setter' for 'property' objects doesn't apply to a 'function' object",
     "output_type": "error",
     "traceback": [
      "\u001b[0;31m---------------------------------------------------------------------------\u001b[0m",
      "\u001b[0;31mTypeError\u001b[0m                                 Traceback (most recent call last)",
      "\u001b[1;32m/home/abrar/git/99-Days-Of-Data/8.OOP/walk.ipynb Cell 6'\u001b[0m in \u001b[0;36m<cell line: 1>\u001b[0;34m()\u001b[0m\n\u001b[0;32m----> <a href='vscode-notebook-cell:/home/abrar/git/99-Days-Of-Data/8.OOP/walk.ipynb#ch0000005?line=0'>1</a>\u001b[0m \u001b[39mclass\u001b[39;00m \u001b[39mStudent\u001b[39;00m:                                   \u001b[39m#Creating a class\u001b[39;00m\n\u001b[1;32m      <a href='vscode-notebook-cell:/home/abrar/git/99-Days-Of-Data/8.OOP/walk.ipynb#ch0000005?line=1'>2</a>\u001b[0m     \u001b[39mdef\u001b[39;00m \u001b[39m__init__\u001b[39m(\u001b[39mself\u001b[39m, name, house, patrounus):  \u001b[39m#Instatiate [Dunder init method/instance method]\u001b[39;00m\n\u001b[1;32m      <a href='vscode-notebook-cell:/home/abrar/git/99-Days-Of-Data/8.OOP/walk.ipynb#ch0000005?line=2'>3</a>\u001b[0m         \u001b[39mself\u001b[39m\u001b[39m.\u001b[39mname \u001b[39m=\u001b[39m name\n",
      "\u001b[1;32m/home/abrar/git/99-Days-Of-Data/8.OOP/walk.ipynb Cell 6'\u001b[0m in \u001b[0;36mStudent\u001b[0;34m()\u001b[0m\n\u001b[1;32m      <a href='vscode-notebook-cell:/home/abrar/git/99-Days-Of-Data/8.OOP/walk.ipynb#ch0000005?line=8'>9</a>\u001b[0m \u001b[39m@property\u001b[39m\n\u001b[1;32m     <a href='vscode-notebook-cell:/home/abrar/git/99-Days-Of-Data/8.OOP/walk.ipynb#ch0000005?line=9'>10</a>\u001b[0m \u001b[39mdef\u001b[39;00m \u001b[39mhouse\u001b[39m(\u001b[39mself\u001b[39m):\n\u001b[1;32m     <a href='vscode-notebook-cell:/home/abrar/git/99-Days-Of-Data/8.OOP/walk.ipynb#ch0000005?line=10'>11</a>\u001b[0m     \u001b[39mreturn\u001b[39;00m \u001b[39mself\u001b[39m\u001b[39m.\u001b[39m_house\n\u001b[1;32m     <a href='vscode-notebook-cell:/home/abrar/git/99-Days-Of-Data/8.OOP/walk.ipynb#ch0000005?line=12'>13</a>\u001b[0m \u001b[39m@property\u001b[39;49m\u001b[39m.\u001b[39;49msetter\n\u001b[0;32m---> <a href='vscode-notebook-cell:/home/abrar/git/99-Days-Of-Data/8.OOP/walk.ipynb#ch0000005?line=13'>14</a>\u001b[0m \u001b[39mdef\u001b[39;49;00m \u001b[39mhouse\u001b[39;49m(\u001b[39mself\u001b[39;49m):\n\u001b[1;32m     <a href='vscode-notebook-cell:/home/abrar/git/99-Days-Of-Data/8.OOP/walk.ipynb#ch0000005?line=14'>15</a>\u001b[0m     \u001b[39mif\u001b[39;49;00m house \u001b[39mnot\u001b[39;49;00m \u001b[39min\u001b[39;49;00m [\u001b[39m\"\u001b[39;49m\u001b[39mGryffindor\u001b[39;49m\u001b[39m\"\u001b[39;49m, \u001b[39m\"\u001b[39;49m\u001b[39mSlytherine\u001b[39;49m\u001b[39m\"\u001b[39;49m, \u001b[39m\"\u001b[39;49m\u001b[39mRavenclaw\u001b[39;49m\u001b[39m\"\u001b[39;49m, \u001b[39m\"\u001b[39;49m\u001b[39mHufflepuff\u001b[39;49m\u001b[39m\"\u001b[39;49m]:\n\u001b[1;32m     <a href='vscode-notebook-cell:/home/abrar/git/99-Days-Of-Data/8.OOP/walk.ipynb#ch0000005?line=15'>16</a>\u001b[0m         \u001b[39mraise\u001b[39;49;00m \u001b[39mValueError\u001b[39;49;00m(\u001b[39m\"\u001b[39;49m\u001b[39mInvalid House\u001b[39;49m\u001b[39m\"\u001b[39;49m)\n",
      "\u001b[0;31mTypeError\u001b[0m: descriptor 'setter' for 'property' objects doesn't apply to a 'function' object"
     ]
    }
   ],
   "source": [
    "class Student:  # Creating a class\n",
    "    def __init__(\n",
    "        self, name, house, patrounus\n",
    "    ):  # Instatiate [Dunder init method/instance method]\n",
    "        if not name:\n",
    "            ValueError(\"No name\")\n",
    "        self.name = name\n",
    "        self.house = house\n",
    "\n",
    "    def __str__(self):\n",
    "        return f\"This is student\"\n",
    "\n",
    "    @property\n",
    "    def house(self):\n",
    "        return self._house\n",
    "\n",
    "    @property.setter\n",
    "    def house(self):\n",
    "        if house not in [\"Gryffindor\", \"Slytherine\", \"Ravenclaw\", \"Hufflepuff\"]:\n",
    "            raise ValueError(\"Invalid House\")\n",
    "        return self._house\n",
    "\n",
    "\n",
    "def main():\n",
    "    student = get_students()\n",
    "    student.house = \"Set by user\"\n",
    "\n",
    "\n",
    "def get_students():\n",
    "    name = input(\"name? \")  # setting attribute / instance variable\n",
    "    house = input(\"house? \")\n",
    "    patrounus = input(\"Patrounus? \")\n",
    "    try:\n",
    "        return Student(name, house, patrounus)\n",
    "    except ValueError:\n",
    "        return None\n",
    "\n",
    "\n",
    "main()\n"
   ]
  },
  {
   "cell_type": "markdown",
   "metadata": {},
   "source": [
    "This will throw an error. And we can do the same with the instance variable **name**"
   ]
  },
  {
   "cell_type": "markdown",
   "metadata": {},
   "source": [
    "But, we can still do some sabotaging to the code. By\n",
    "\n",
    "```python\n",
    "student = get_students()\n",
    "student._house = \"Set by user\"\n",
    "```\n",
    "\n",
    "So theres not really some strict rule in python that prevents user from breaking the code. What this language does is, it follows convention. when the writer of the programm writes _variable it means refrain from using this variable. But when the writter goes on to __variable it means strictly prohibitted to use these variable in the code. [Language like Java is more strict on these matter]"
   ]
  },
  {
   "cell_type": "markdown",
   "metadata": {},
   "source": [
    "#### WHat is really an **Attribute**\n",
    "\n",
    "ANything that comes after a .(dot) is called an attribute. It can be an instance variable as well as a function."
   ]
  },
  {
   "cell_type": "markdown",
   "metadata": {},
   "source": [
    "#### WHat is really a **Property**\n",
    "\n",
    "It is always a function. So what is a method? Well, Method is also a property."
   ]
  },
  {
   "cell_type": "markdown",
   "metadata": {},
   "source": [
    "#### WHat is really a **Decorator**\n",
    "\n",
    "It is a function called into another function. @property only belong to python."
   ]
  },
  {
   "cell_type": "markdown",
   "metadata": {},
   "source": [
    "#### Monkey Patching (Adding functionality without breaking things)"
   ]
  },
  {
   "cell_type": "markdown",
   "metadata": {},
   "source": [
    "### Type and Class Method\n",
    "\n",
    "All these times we have been using classes. For istance **str**, **list**, **dict** are class in python. if we use type function\n",
    "```python\n",
    "type(str())\n",
    "type(int())\n",
    "type(list())\n",
    "```\n",
    "It will return <*class 'str'*>, <*class 'int'*>, <*class 'list'*>\n",
    "\n",
    "We can use @classmethod in python. Say in the world of harry potter we want a method of sorting student house with a sorting house. We can create a method like bellow"
   ]
  },
  {
   "cell_type": "code",
   "execution_count": 41,
   "metadata": {},
   "outputs": [
    {
     "name": "stdout",
     "output_type": "stream",
     "text": [
      "Abrar  in house  Slytherine\n"
     ]
    }
   ],
   "source": [
    "from random import choice as ch\n",
    "\n",
    "\n",
    "class Hat:\n",
    "    def __init__(self):\n",
    "        self.houses = [\"Gryffindor\", \"Slytherine\", \"Ravenclaw\", \"Hufflepuff\"]\n",
    "\n",
    "    def sort(self, name):\n",
    "        return ch(self.houses)\n",
    "\n",
    "\n",
    "hat = Hat()  # instantiating a class\n",
    "name = input(\"Name of the student? \")\n",
    "house = hat.sort(name)\n",
    "print(name, \" in house \", house)\n"
   ]
  },
  {
   "cell_type": "markdown",
   "metadata": {},
   "source": [
    "But have a look at what we did here. We had to instantiate a class for this. but what about **str, int** we don't have to do that. well these are class method. We will do the same with our code. Because, it doesn't make any sense to have more than one sorting hat in the world of harry potter."
   ]
  },
  {
   "cell_type": "code",
   "execution_count": 57,
   "metadata": {},
   "outputs": [
    {
     "name": "stdout",
     "output_type": "stream",
     "text": [
      "Abrar  is in house  Slytherine\n"
     ]
    }
   ],
   "source": [
    "from random import choice as ch\n",
    "\n",
    "\n",
    "class Hat:\n",
    "\n",
    "    houses = [\"Gryffindor\", \"Slytherine\", \"Ravenclaw\", \"Hufflepuff\"]\n",
    "\n",
    "    @classmethod\n",
    "    def sort(cls, name):\n",
    "        print(name, \" is in house \", ch(cls.houses))\n",
    "\n",
    "\n",
    "name = input(\"Name of the student? \")\n",
    "Hat.sort(name)\n"
   ]
  },
  {
   "cell_type": "markdown",
   "metadata": {},
   "source": [
    "Look we got rid of the dunder init. And placed a lone variable call house. This is classmethod variable. this will be available to all function/Method of the class\n",
    "\n",
    "Remember what we did for the student class? Insider the main function we called another function. Whose sole purpose in life was to get the name and house of the student. Well, we can do this more conventionally with **class method**. Heres how:"
   ]
  },
  {
   "cell_type": "code",
   "execution_count": 9,
   "metadata": {},
   "outputs": [
    {
     "name": "stdout",
     "output_type": "stream",
     "text": [
      "Abrar is from the house Slytherine\n"
     ]
    }
   ],
   "source": [
    "class Student:\n",
    "    def __init__(self, name, house):\n",
    "        self.name = name\n",
    "        self.house = house\n",
    "\n",
    "    def __str__(self):\n",
    "        return f\"{self.name} is from the house {self.house}\"\n",
    "\n",
    "    @classmethod\n",
    "    def get(cls):\n",
    "        name = input(\"name\")\n",
    "        house = input(\"house\")\n",
    "        return cls(name, house)  # Instantiating\n",
    "\n",
    "\n",
    "def main():\n",
    "    student = Student.get()\n",
    "    print(student)\n",
    "\n",
    "\n",
    "if __name__ == \"__main__\":\n",
    "    main()\n"
   ]
  },
  {
   "cell_type": "markdown",
   "metadata": {},
   "source": [
    "There are other method like **static method**"
   ]
  },
  {
   "cell_type": "markdown",
   "metadata": {},
   "source": [
    "In the world of Harry Potter both the student and professors are Wizard. If we want to create two different class Student and Professor, they will have some commonality in them. And we use this commonality with inheritance"
   ]
  },
  {
   "cell_type": "code",
   "execution_count": 20,
   "metadata": {},
   "outputs": [
    {
     "name": "stdout",
     "output_type": "stream",
     "text": [
      "Professor Type\n",
      "\n",
      "<__main__.Student object at 0x7f53e867c400>\n",
      "<class '__main__.Student'>\n",
      "\n",
      "Professor Type\n",
      "\n",
      "<__main__.Professor object at 0x7f53e867c820>\n",
      "<class '__main__.Professor'>\n"
     ]
    }
   ],
   "source": [
    "class Wizard:\n",
    "    def __init__(self, name):\n",
    "        self.name = name\n",
    "\n",
    "\n",
    "class Student(Wizard):\n",
    "    def __init__(self, name, house):\n",
    "        super().__init__(name)\n",
    "        self.house = house\n",
    "\n",
    "\n",
    "class Professor(Wizard):\n",
    "    def __init__(self, name, subject):\n",
    "        super().__init__(name)\n",
    "        self.subject = subject\n",
    "\n",
    "\n",
    "harry = Student(\"harry\", \"Gryffindor\")\n",
    "severous = Professor(\"Severous\", \"Portion\")\n",
    "\n",
    "\n",
    "print(\"Professor Type\\n\")\n",
    "\n",
    "print(harry)\n",
    "print(type(harry))\n",
    "\n",
    "\n",
    "print(\"\\nProfessor Type\\n\")\n",
    "\n",
    "print(severous)\n",
    "print(type(severous))\n"
   ]
  },
  {
   "cell_type": "markdown",
   "metadata": {},
   "source": [
    "We can use operator overload as well. In the fictional world of harrypotter theres Vault of each family. We can write a class Vault for them."
   ]
  },
  {
   "cell_type": "code",
   "execution_count": 24,
   "metadata": {},
   "outputs": [
    {
     "name": "stdout",
     "output_type": "stream",
     "text": [
      "Galleons = 100, Sickle = 50, Kurt = 25\n",
      "Galleons = 10, Sickle = 50, Kurt = 25\n",
      "Galleons = 110, Sickle = 100, Kurt = 50\n"
     ]
    }
   ],
   "source": [
    "class Vault:\n",
    "    def __init__(self, galleons, sickle, kurt):\n",
    "        self.galleons = galleons\n",
    "        self.sickle = sickle\n",
    "        self.kurt = kurt\n",
    "\n",
    "    def __str__(self):\n",
    "        return f\"Galleons = {self.galleons}, Sickle = {self.sickle}, Kurt = {self.kurt}\"\n",
    "\n",
    "\n",
    "potter = Vault(100, 50, 25)\n",
    "print(potter)\n",
    "\n",
    "\n",
    "weasly = Vault(10, 50, 25)\n",
    "print(weasly)"
   ]
  },
  {
   "cell_type": "markdown",
   "metadata": {},
   "source": [
    "How can we add the two vault? we can access them like\n",
    "\n",
    "```python\n",
    "newVault =  Vault((potter.galleons + weasly.galleons),(potter.sickle + weasly.sickle),(potter.kurt + weasly.kurt))\n",
    "```\n",
    "But we can also use the operator overload __ __add__ __ like this"
   ]
  },
  {
   "cell_type": "code",
   "execution_count": 26,
   "metadata": {},
   "outputs": [
    {
     "name": "stdout",
     "output_type": "stream",
     "text": [
      "Galleons = 100, Sickle = 50, Kurt = 25\n",
      "Galleons = 10, Sickle = 50, Kurt = 25\n",
      "Galleons = 110, Sickle = 100, Kurt = 50\n"
     ]
    }
   ],
   "source": [
    "class Vault:\n",
    "    def __init__(self, galleons, sickle, kurt):\n",
    "        self.galleons = galleons\n",
    "        self.sickle = sickle\n",
    "        self.kurt = kurt\n",
    "\n",
    "    def __str__(self):\n",
    "        return f\"Galleons = {self.galleons}, Sickle = {self.sickle}, Kurt = {self.kurt}\"\n",
    "\n",
    "    def __add__(self,other):\n",
    "        galleons = self.galleons + other.galleons\n",
    "        kurt = self.kurt + other.kurt\n",
    "        sickle = self.sickle + other.sickle\n",
    "        return Vault(galleons,sickle,kurt)\n",
    "\n",
    "potter = Vault(100, 50, 25)\n",
    "print(potter)\n",
    "\n",
    "\n",
    "weasly = Vault(10, 50, 25)\n",
    "print(weasly)\n",
    "\n",
    "\n",
    "total = potter + weasly\n",
    "print(total)"
   ]
  },
  {
   "cell_type": "markdown",
   "metadata": {},
   "source": [
    "With this we shall conclude the OOP chapter for now. We are going to come back to it again. After few more concept"
   ]
  }
 ],
 "metadata": {
  "kernelspec": {
   "display_name": "Python 3.10.5 64-bit",
   "language": "python",
   "name": "python3"
  },
  "language_info": {
   "codemirror_mode": {
    "name": "ipython",
    "version": 3
   },
   "file_extension": ".py",
   "mimetype": "text/x-python",
   "name": "python",
   "nbconvert_exporter": "python",
   "pygments_lexer": "ipython3",
   "version": "3.10.5"
  },
  "vscode": {
   "interpreter": {
    "hash": "d2152fd7f0bbc62aa1baff8c990435d1e2c7175d001561303988032604c11a48"
   }
  }
 },
 "nbformat": 4,
 "nbformat_minor": 2
}
